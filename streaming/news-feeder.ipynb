{
 "cells": [
  {
   "cell_type": "code",
   "execution_count": null,
   "metadata": {},
   "outputs": [],
   "source": [
    "import feedparser, time, datetime\n",
    "import pandas as pd"
   ]
  },
  {
   "cell_type": "code",
   "execution_count": null,
   "metadata": {},
   "outputs": [],
   "source": [
    "import re\n",
    "\n",
    "def pre_process(text):\n",
    "    # lowercase\n",
    "    text=text.lower()\n",
    "    # remove tags\n",
    "    text=re.sub(\"\",\"\",text)\n",
    "    # remove numbers and dollar amounts\n",
    "    text = re.sub(r'[0-9\\,$]+', '', text)\n",
    "    # remove special characters and digits\n",
    "    text=re.sub(\"(\\\\d|\\\\W)+\",\" \",text)\n",
    "    # remove short words\n",
    "    text = ' '.join([word for word in text.split() if len(word) > 3])\n",
    "    return text\n",
    "\n",
    "def tolist(text):\n",
    "    return text.split()"
   ]
  },
  {
   "cell_type": "code",
   "execution_count": null,
   "metadata": {},
   "outputs": [],
   "source": [
    "class Feed:\n",
    "    name = ''\n",
    "    url = None\n",
    "    max_delay = None\n",
    "    def __init__(self, name, url, max_delay):\n",
    "        self.name = name\n",
    "        self.url  = url\n",
    "        self.max_delay = max_delay\n",
    "        \n",
    "    def __str__(self):\n",
    "        return '%s: %s' % (self.name, self.url)\n",
    "\n",
    "    def getHeadline(self):\n",
    "        d = feedparser.parse (self.url)\n",
    "        for post in d.entries:\n",
    "            time.sleep(0.25)\n",
    "            ret = (datetime.datetime.now().time(), self.name, post.title, post.link)\n",
    "            yield ret\n",
    "\n",
    "#\n",
    "\n",
    "feeds = (\n",
    "    Feed('nyt-home', 'https://rss.nytimes.com/services/xml/rss/nyt/HomePage.xml', 1),\n",
    "    Feed('nyt-sun', 'https://rss.nytimes.com/services/xml/rss/nyt/sunday-review.xml', 1),\n",
    "    Feed('nyt-hlth', 'https://rss.nytimes.com/services/xml/rss/nyt/Health.xml', 1),\n",
    "    Feed('nyt-wrld', 'https://www.nytimes.com/section/world/rss.xml', 1),\n",
    "    Feed('nyt-bsns', 'http://feeds.nytimes.com/nyt/rss/Business', 1),\n",
    "    Feed('nyt-tech', 'http://feeds.nytimes.com/nyt/rss/Technology', 1),\n",
    "    Feed('nyt-sprt', 'https://rss.nytimes.com/services/xml/rss/nyt/Sports.xml', 1),\n",
    "    Feed('nyt-scnc', 'http://www.nytimes.com/services/xml/rss/nyt/Science.xml', 1),\n",
    "    Feed('nyt-arts', 'https://rss.nytimes.com/services/xml/rss/nyt/Arts.xml', 1),\n",
    "    Feed('nyt-trvl', 'https://rss.nytimes.com/services/xml/rss/nyt/Travel.xml', 1),\n",
    "    Feed('nyt-usa',  'http://www.nytimes.com/services/xml/rss/nyt/US.xml', 1),\n",
    "    Feed('bbc-hlth', 'http://feeds.bbci.co.uk/news/health/rss.xml', 1),\n",
    "    Feed('bbc-brkn', 'https://bbcbreakingnews.com/feed', 1),\n",
    "    Feed('bbc-bsns', 'http://feeds.bbci.co.uk/news/business/rss.xml', 1),\n",
    "    Feed('bbc-pltc', 'http://feeds.bbci.co.uk/news/politics/rss.xml', 1),\n",
    "    Feed('bbc-educ', 'http://feeds.bbci.co.uk/news/education/rss.xml', 1),\n",
    "    Feed('bbc-scnc', 'http://feeds.bbci.co.uk/news/science_and_environment/rss.xml', 1),\n",
    "    Feed('bbc-tech', 'http://feeds.bbci.co.uk/news/technology/rss.xml', 1),\n",
    "    Feed('bbc-arts', 'http://feeds.bbci.co.uk/news/entertainment_and_arts/rss.xml', 1),\n",
    ")"
   ]
  },
  {
   "cell_type": "code",
   "execution_count": null,
   "metadata": {},
   "outputs": [],
   "source": [
    "'''\n",
    "# Used for testing, now commented out\n",
    "titles = []\n",
    "for feed in feeds:\n",
    "    for (tt, name, title, link) in feed.getHeadline():\n",
    "        words = pre_process(title).split()\n",
    "\n",
    "        if all([x in understood_words for x in words]):\n",
    "            # print('i know this: ', title)\n",
    "            pass\n",
    "        else:\n",
    "            print(title)\n",
    "'''"
   ]
  },
  {
   "cell_type": "code",
   "execution_count": null,
   "metadata": {},
   "outputs": [],
   "source": [
    "titles = []\n",
    "for feed in feeds:\n",
    "    for (tt, name, title, link) in feed.getHeadline():\n",
    "        print title"
   ]
  }
 ],
 "metadata": {
  "kernelspec": {
   "display_name": "Python 3",
   "language": "python",
   "name": "python3"
  },
  "language_info": {
   "codemirror_mode": {
    "name": "ipython",
    "version": 3
   },
   "file_extension": ".py",
   "mimetype": "text/x-python",
   "name": "python",
   "nbconvert_exporter": "python",
   "pygments_lexer": "ipython3",
   "version": "3.7.4"
  }
 },
 "nbformat": 4,
 "nbformat_minor": 2
}
