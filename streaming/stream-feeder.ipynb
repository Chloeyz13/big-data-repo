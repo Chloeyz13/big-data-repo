{
 "cells": [
  {
   "cell_type": "code",
   "execution_count": null,
   "metadata": {},
   "outputs": [],
   "source": [
    "import time, datetime\n",
    "import pandas as pd"
   ]
  },
  {
   "cell_type": "code",
   "execution_count": null,
   "metadata": {},
   "outputs": [],
   "source": [
    "# Extracted from: https://www.nature.com/articles/s41599-020-0523-3#Sec7 [Supplementary information]\n",
    "dj30_df = pd.read_csv('../data/dj30.csv') \n",
    "dj30_df.dropna(inplace=True)\n",
    "dj30_df = dj30_df.loc[:,['Date', 'Close']]\n",
    "dj30 = dj30_df['Close'].tolist()\n",
    "\n",
    "class CloseFeed:\n",
    "    source = None\n",
    "    def __init__(self, source):\n",
    "        self.source = source\n",
    "        \n",
    "    def getClose(self):\n",
    "        i = 0\n",
    "        while True:\n",
    "            time.sleep(0.25)\n",
    "            i += 1\n",
    "            yield self.source[i-1]\n",
    "\n",
    "dj30CloseFeed = CloseFeed(dj30)"
   ]
  },
  {
   "cell_type": "code",
   "execution_count": null,
   "metadata": {},
   "outputs": [],
   "source": [
    "for close in dj30CloseFeed.getClose():\n",
    "    print (close)"
   ]
  }
 ],
 "metadata": {
  "kernelspec": {
   "display_name": "Python 3",
   "language": "python",
   "name": "python3"
  },
  "language_info": {
   "codemirror_mode": {
    "name": "ipython",
    "version": 3
   },
   "file_extension": ".py",
   "mimetype": "text/x-python",
   "name": "python",
   "nbconvert_exporter": "python",
   "pygments_lexer": "ipython3",
   "version": "3.7.4"
  }
 },
 "nbformat": 4,
 "nbformat_minor": 2
}
